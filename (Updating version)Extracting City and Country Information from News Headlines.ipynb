{
  "cells": [
    {
      "metadata": {
        "trusted": true
      },
      "cell_type": "code",
      "source": "!pip install --upgrade pip\n!pip install geonamescache unidecode\nimport requests,geonamescache,re,json\nimport pandas as pd\nimport numpy as np\nimport unidecode",
      "execution_count": 32,
      "outputs": [
        {
          "output_type": "stream",
          "text": "Requirement already up-to-date: pip in /home/nbuser/anaconda3_501/lib/python3.6/site-packages (20.0.2)\nRequirement already satisfied: geonamescache in /home/nbuser/anaconda3_501/lib/python3.6/site-packages (1.1.0)\nRequirement already satisfied: unidecode in /home/nbuser/anaconda3_501/lib/python3.6/site-packages (1.1.1)\n",
          "name": "stdout"
        }
      ]
    },
    {
      "metadata": {},
      "cell_type": "markdown",
      "source": "#Get data news headline text file from website and change to be string text#"
    },
    {
      "metadata": {
        "trusted": true
      },
      "cell_type": "code",
      "source": "Respond=requests.get('https://livevideo-resources.s3-us-west-2.amazonaws.com/course-data/93/headlines.txt')\nRespond_text=Respond.text",
      "execution_count": 33,
      "outputs": []
    },
    {
      "metadata": {},
      "cell_type": "markdown",
      "source": "#Spilt headline into list#"
    },
    {
      "metadata": {
        "trusted": true
      },
      "cell_type": "code",
      "source": "Headline_text=Respond_text.split('\\n')\nHeadline_text[:4]",
      "execution_count": 34,
      "outputs": [
        {
          "output_type": "execute_result",
          "execution_count": 34,
          "data": {
            "text/plain": "['Zika Outbreak Hits Miami',\n 'Could Zika Reach New York City?',\n 'First Case of Zika in Miami Beach',\n 'Mystery Virus Spreads in Recife, Brazil']"
          },
          "metadata": {}
        }
      ]
    },
    {
      "metadata": {},
      "cell_type": "markdown",
      "source": "Get list of countries"
    },
    {
      "metadata": {
        "trusted": true
      },
      "cell_type": "code",
      "source": "gc = geonamescache.GeonamesCache()\ncountries = [country[\"name\"] for country in gc.get_countries().values()]\ncountries[:4]",
      "execution_count": 35,
      "outputs": [
        {
          "output_type": "execute_result",
          "execution_count": 35,
          "data": {
            "text/plain": "['Andorra', 'United Arab Emirates', 'Afghanistan', 'Antigua and Barbuda']"
          },
          "metadata": {}
        }
      ]
    },
    {
      "metadata": {},
      "cell_type": "markdown",
      "source": "Get list of cities"
    },
    {
      "metadata": {
        "trusted": true
      },
      "cell_type": "code",
      "source": "cities = [city['name'] for city in gc.get_cities().values()]\ncities[:4]",
      "execution_count": 36,
      "outputs": [
        {
          "output_type": "execute_result",
          "execution_count": 36,
          "data": {
            "text/plain": "['Andorra la Vella', 'Umm Al Quwain City', 'Ras Al Khaimah City', 'Zayed City']"
          },
          "metadata": {}
        }
      ]
    },
    {
      "metadata": {},
      "cell_type": "markdown",
      "source": "Removing accent mark from the lists of countries and cities by unidecode"
    },
    {
      "metadata": {
        "trusted": true
      },
      "cell_type": "code",
      "source": "country_accent_mapping = {\n    unidecode.unidecode(country): country for country in countries\n}\n\ncity_accent_mapping = {\n    unidecode.unidecode(city): city for city in cities\n}\n\ncity_accent_mapping[\"Asmar\"]",
      "execution_count": 37,
      "outputs": [
        {
          "output_type": "execute_result",
          "execution_count": 37,
          "data": {
            "text/plain": "'Āsmār'"
          },
          "metadata": {}
        }
      ]
    },
    {
      "metadata": {},
      "cell_type": "markdown",
      "source": "Removing in headline as well"
    },
    {
      "metadata": {
        "trusted": true
      },
      "cell_type": "code",
      "source": "Headline_text= [unidecode.unidecode(headline) for headline in Headline_text]\nHeadline_text[-4:]",
      "execution_count": 38,
      "outputs": [
        {
          "output_type": "execute_result",
          "execution_count": 38,
          "data": {
            "text/plain": "['Suva authorities confirmed the spread of Rotavirus',\n 'More Zika patients reported in Bella Vista',\n 'Zika Outbreak in Wichita Falls',\n '']"
          },
          "metadata": {}
        }
      ]
    },
    {
      "metadata": {},
      "cell_type": "markdown",
      "source": "Create list of unaccented countries and cities"
    },
    {
      "metadata": {
        "trusted": true
      },
      "cell_type": "code",
      "source": "unaccented_cities = list(city_accent_mapping.keys())\nunaccented_countries = set(country_accent_mapping.keys())\n\nprint(f\"There are {len(unaccented_cities)} cities to look through.\")\nprint(f\"There are {len(unaccented_countries)} countries to look through.\")",
      "execution_count": 39,
      "outputs": [
        {
          "output_type": "stream",
          "text": "There are 23022 cities to look through.\nThere are 252 countries to look through.\n",
          "name": "stdout"
        }
      ]
    },
    {
      "metadata": {},
      "cell_type": "markdown",
      "source": "Sort Cities and Countries by Length"
    },
    {
      "metadata": {
        "trusted": true
      },
      "cell_type": "code",
      "source": "unaccented_cities = sorted(unaccented_cities, key=lambda x: len(x), reverse=True)\nunaccented_cities[:2]",
      "execution_count": 40,
      "outputs": [
        {
          "output_type": "execute_result",
          "execution_count": 40,
          "data": {
            "text/plain": "['Chak Two Hundred Forty-nine Thal Development Authority',\n 'Dolores Hidalgo Cuna de la Independencia Nacional']"
          },
          "metadata": {}
        }
      ]
    },
    {
      "metadata": {
        "trusted": true
      },
      "cell_type": "code",
      "source": "unaccented_countries = sorted(unaccented_countries, key=lambda x: len(x), reverse=True)\nunaccented_countries[:2]",
      "execution_count": 41,
      "outputs": [
        {
          "output_type": "execute_result",
          "execution_count": 41,
          "data": {
            "text/plain": "['South Georgia and the South Sandwich Islands',\n 'United States Minor Outlying Islands']"
          },
          "metadata": {}
        }
      ]
    },
    {
      "metadata": {},
      "cell_type": "markdown",
      "source": "Constructing the Regular Expressions"
    },
    {
      "metadata": {
        "trusted": true
      },
      "cell_type": "code",
      "source": "city_regex = r'\\b|\\b'.join(unaccented_cities)\ncity_regex[1500:1800]",
      "execution_count": 42,
      "outputs": [
        {
          "output_type": "execute_result",
          "execution_count": 42,
          "data": {
            "text/plain": "'-Baume\\\\b|\\\\bTamuning-Tumon-Harmon Village\\\\b|\\\\bTultitlan de Mariano Escobedo\\\\b|\\\\bSan Bernardino Tlaxcalancingo\\\\b|\\\\bSan Francisco Tlalcilalcalpan\\\\b|\\\\bFraccionamiento Ciudad Olmeca\\\\b|\\\\bPresidencia Roque Saenz Pena\\\\b|\\\\bZurich (Kreis 11) / Oerlikon\\\\b|\\\\bSan Fernando de Monte Cristi\\\\b|\\\\bPuerto Francisco de '"
          },
          "metadata": {}
        }
      ]
    },
    {
      "metadata": {
        "trusted": true
      },
      "cell_type": "code",
      "source": "country_regex = r\"\\b|\\b\".join(unaccented_countries)\ncountry_regex[:100]",
      "execution_count": 43,
      "outputs": [
        {
          "output_type": "execute_result",
          "execution_count": 43,
          "data": {
            "text/plain": "'South Georgia and the South Sandwich Islands\\\\b|\\\\bUnited States Minor Outlying Islands\\\\b|\\\\bBonaire, S'"
          },
          "metadata": {}
        }
      ]
    },
    {
      "metadata": {},
      "cell_type": "markdown",
      "source": "Create city and country regular expression function"
    },
    {
      "metadata": {
        "trusted": true
      },
      "cell_type": "code",
      "source": "     \"\"\"\n    Find the city(s) and/or country(s) in a text headline.\n    \n    :param headline: string for headline\n    \n    :return dict: a dictionary mapping the headline to city(s) and/or countries.\n     \"\"\"\ndef find_city_and_country_in_headline(headline):\n    city_match = re.search(city_regex, headline)\n    country_match = re.search(country_regex, headline)\n    cities = None if not city_match else city_match.group(0)\n    countries = None if not country_match else country_match.group(0)\n    return dict(headline=headline, countries=countries, cities=cities)",
      "execution_count": 44,
      "outputs": []
    },
    {
      "metadata": {
        "trusted": true
      },
      "cell_type": "code",
      "source": "find_city_and_country_in_headline(Headline_text[3])",
      "execution_count": 45,
      "outputs": [
        {
          "output_type": "execute_result",
          "execution_count": 45,
          "data": {
            "text/plain": "{'headline': 'Mystery Virus Spreads in Recife, Brazil',\n 'countries': 'Brazil',\n 'cities': 'Recife'}"
          },
          "metadata": {}
        }
      ]
    },
    {
      "metadata": {
        "trusted": true
      },
      "cell_type": "code",
      "source": "find_city_and_country_in_headline(Headline_text[1])",
      "execution_count": 46,
      "outputs": [
        {
          "output_type": "execute_result",
          "execution_count": 46,
          "data": {
            "text/plain": "{'headline': 'Could Zika Reach New York City?',\n 'countries': None,\n 'cities': 'New York City'}"
          },
          "metadata": {}
        }
      ]
    },
    {
      "metadata": {
        "trusted": true
      },
      "cell_type": "markdown",
      "source": "Apply Regular Expression to All Headlines"
    },
    {
      "metadata": {
        "trusted": true
      },
      "cell_type": "code",
      "source": "headline_cities_and_countries = [\n    find_city_and_country_in_headline(headline) for headline in Headline_text\n]\nheadline_cities_and_countries[-10:]",
      "execution_count": 47,
      "outputs": [
        {
          "output_type": "execute_result",
          "execution_count": 47,
          "data": {
            "text/plain": "[{'headline': 'More Zika patients reported in Fort Worth',\n  'countries': None,\n  'cities': 'Fort Worth'},\n {'headline': 'Zika symptoms spotted in Boynton Beach',\n  'countries': None,\n  'cities': 'Boynton Beach'},\n {'headline': 'Outbreak of Zika in Portoviejo',\n  'countries': None,\n  'cities': 'Portoviejo'},\n {'headline': 'Influenza Exposure in Muscat',\n  'countries': None,\n  'cities': 'Muscat'},\n {'headline': 'Rumors about Rabies spreading in Jerusalem have been refuted',\n  'countries': None,\n  'cities': 'Jerusalem'},\n {'headline': 'More Zika patients reported in Indang',\n  'countries': None,\n  'cities': 'Indang'},\n {'headline': 'Suva authorities confirmed the spread of Rotavirus',\n  'countries': None,\n  'cities': 'Suva'},\n {'headline': 'More Zika patients reported in Bella Vista',\n  'countries': None,\n  'cities': 'Bella Vista'},\n {'headline': 'Zika Outbreak in Wichita Falls',\n  'countries': None,\n  'cities': 'Wichita Falls'},\n {'headline': '', 'countries': None, 'cities': None}]"
          },
          "metadata": {}
        }
      ]
    },
    {
      "metadata": {
        "trusted": true
      },
      "cell_type": "code",
      "source": "with open(\"headline_cities_and_countries.json\", 'w') as outfile:\n    json.dump(headline_cities_and_countries, outfile)",
      "execution_count": 48,
      "outputs": []
    },
    {
      "metadata": {
        "trusted": true
      },
      "cell_type": "code",
      "source": "with open('headline_cities_and_countries.json', \"r\") as fin:\n    check_data = json.loads(fin.read())",
      "execution_count": 49,
      "outputs": []
    },
    {
      "metadata": {
        "trusted": true
      },
      "cell_type": "code",
      "source": "check_data[-10:]",
      "execution_count": 50,
      "outputs": [
        {
          "output_type": "execute_result",
          "execution_count": 50,
          "data": {
            "text/plain": "[{'headline': 'More Zika patients reported in Fort Worth',\n  'countries': None,\n  'cities': 'Fort Worth'},\n {'headline': 'Zika symptoms spotted in Boynton Beach',\n  'countries': None,\n  'cities': 'Boynton Beach'},\n {'headline': 'Outbreak of Zika in Portoviejo',\n  'countries': None,\n  'cities': 'Portoviejo'},\n {'headline': 'Influenza Exposure in Muscat',\n  'countries': None,\n  'cities': 'Muscat'},\n {'headline': 'Rumors about Rabies spreading in Jerusalem have been refuted',\n  'countries': None,\n  'cities': 'Jerusalem'},\n {'headline': 'More Zika patients reported in Indang',\n  'countries': None,\n  'cities': 'Indang'},\n {'headline': 'Suva authorities confirmed the spread of Rotavirus',\n  'countries': None,\n  'cities': 'Suva'},\n {'headline': 'More Zika patients reported in Bella Vista',\n  'countries': None,\n  'cities': 'Bella Vista'},\n {'headline': 'Zika Outbreak in Wichita Falls',\n  'countries': None,\n  'cities': 'Wichita Falls'},\n {'headline': '', 'countries': None, 'cities': None}]"
          },
          "metadata": {}
        }
      ]
    },
    {
      "metadata": {
        "trusted": true
      },
      "cell_type": "code",
      "source": "with open(\"country_accent_mapping.json\", \"w\") as fout:\n    json.dump(country_accent_mapping, fout)",
      "execution_count": 51,
      "outputs": []
    },
    {
      "metadata": {
        "trusted": true
      },
      "cell_type": "code",
      "source": "with open(\"city_accent_mapping.json\", \"w\") as fit:\n    json.dump(city_accent_mapping, fit)",
      "execution_count": 52,
      "outputs": []
    },
    {
      "metadata": {
        "trusted": true
      },
      "cell_type": "code",
      "source": "data = pd.read_json(\"headline_cities_and_countries.json\")\ndata = data.replace({None: np.nan})\ndata=data[[\"headline\",\"countries\",\"cities\"]]\ndata.head(10)",
      "execution_count": 62,
      "outputs": [
        {
          "output_type": "execute_result",
          "execution_count": 62,
          "data": {
            "text/html": "<div>\n<style scoped>\n    .dataframe tbody tr th:only-of-type {\n        vertical-align: middle;\n    }\n\n    .dataframe tbody tr th {\n        vertical-align: top;\n    }\n\n    .dataframe thead th {\n        text-align: right;\n    }\n</style>\n<table border=\"1\" class=\"dataframe\">\n  <thead>\n    <tr style=\"text-align: right;\">\n      <th></th>\n      <th>headline</th>\n      <th>countries</th>\n      <th>cities</th>\n    </tr>\n  </thead>\n  <tbody>\n    <tr>\n      <th>0</th>\n      <td>Zika Outbreak Hits Miami</td>\n      <td>NaN</td>\n      <td>Miami</td>\n    </tr>\n    <tr>\n      <th>1</th>\n      <td>Could Zika Reach New York City?</td>\n      <td>NaN</td>\n      <td>New York City</td>\n    </tr>\n    <tr>\n      <th>2</th>\n      <td>First Case of Zika in Miami Beach</td>\n      <td>NaN</td>\n      <td>Miami Beach</td>\n    </tr>\n    <tr>\n      <th>3</th>\n      <td>Mystery Virus Spreads in Recife, Brazil</td>\n      <td>Brazil</td>\n      <td>Recife</td>\n    </tr>\n    <tr>\n      <th>4</th>\n      <td>Dallas man comes down with case of Zika</td>\n      <td>NaN</td>\n      <td>Dallas</td>\n    </tr>\n    <tr>\n      <th>5</th>\n      <td>Trinidad confirms first Zika case</td>\n      <td>NaN</td>\n      <td>Trinidad</td>\n    </tr>\n    <tr>\n      <th>6</th>\n      <td>Zika Concerns are Spreading in Houston</td>\n      <td>NaN</td>\n      <td>Houston</td>\n    </tr>\n    <tr>\n      <th>7</th>\n      <td>Geneve Scientists Battle to Find Cure</td>\n      <td>NaN</td>\n      <td>Geneve</td>\n    </tr>\n    <tr>\n      <th>8</th>\n      <td>The CDC in Atlanta is Growing Worried</td>\n      <td>NaN</td>\n      <td>Atlanta</td>\n    </tr>\n    <tr>\n      <th>9</th>\n      <td>Zika Infested Monkeys in Sao Paulo</td>\n      <td>NaN</td>\n      <td>Sao Paulo</td>\n    </tr>\n  </tbody>\n</table>\n</div>",
            "text/plain": "                                  headline countries         cities\n0                 Zika Outbreak Hits Miami       NaN          Miami\n1          Could Zika Reach New York City?       NaN  New York City\n2        First Case of Zika in Miami Beach       NaN    Miami Beach\n3  Mystery Virus Spreads in Recife, Brazil    Brazil         Recife\n4  Dallas man comes down with case of Zika       NaN         Dallas\n5        Trinidad confirms first Zika case       NaN       Trinidad\n6   Zika Concerns are Spreading in Houston       NaN        Houston\n7    Geneve Scientists Battle to Find Cure       NaN         Geneve\n8    The CDC in Atlanta is Growing Worried       NaN        Atlanta\n9       Zika Infested Monkeys in Sao Paulo       NaN      Sao Paulo"
          },
          "metadata": {}
        }
      ]
    },
    {
      "metadata": {
        "trusted": true
      },
      "cell_type": "code",
      "source": "data[\"latitude\"]=np.nan\ndata[\"longitude\"]=np.nan\ndata[\"countrycode\"]=np.nan",
      "execution_count": 63,
      "outputs": []
    },
    {
      "metadata": {
        "trusted": true
      },
      "cell_type": "code",
      "source": "data=data.drop(columns=[\"countries\"])\ndata.head(10)",
      "execution_count": 66,
      "outputs": [
        {
          "output_type": "execute_result",
          "execution_count": 66,
          "data": {
            "text/html": "<div>\n<style scoped>\n    .dataframe tbody tr th:only-of-type {\n        vertical-align: middle;\n    }\n\n    .dataframe tbody tr th {\n        vertical-align: top;\n    }\n\n    .dataframe thead th {\n        text-align: right;\n    }\n</style>\n<table border=\"1\" class=\"dataframe\">\n  <thead>\n    <tr style=\"text-align: right;\">\n      <th></th>\n      <th>headline</th>\n      <th>cities</th>\n      <th>latitude</th>\n      <th>longitude</th>\n      <th>countrycode</th>\n    </tr>\n  </thead>\n  <tbody>\n    <tr>\n      <th>0</th>\n      <td>Zika Outbreak Hits Miami</td>\n      <td>Miami</td>\n      <td>NaN</td>\n      <td>NaN</td>\n      <td>NaN</td>\n    </tr>\n    <tr>\n      <th>1</th>\n      <td>Could Zika Reach New York City?</td>\n      <td>New York City</td>\n      <td>NaN</td>\n      <td>NaN</td>\n      <td>NaN</td>\n    </tr>\n    <tr>\n      <th>2</th>\n      <td>First Case of Zika in Miami Beach</td>\n      <td>Miami Beach</td>\n      <td>NaN</td>\n      <td>NaN</td>\n      <td>NaN</td>\n    </tr>\n    <tr>\n      <th>3</th>\n      <td>Mystery Virus Spreads in Recife, Brazil</td>\n      <td>Recife</td>\n      <td>NaN</td>\n      <td>NaN</td>\n      <td>NaN</td>\n    </tr>\n    <tr>\n      <th>4</th>\n      <td>Dallas man comes down with case of Zika</td>\n      <td>Dallas</td>\n      <td>NaN</td>\n      <td>NaN</td>\n      <td>NaN</td>\n    </tr>\n    <tr>\n      <th>5</th>\n      <td>Trinidad confirms first Zika case</td>\n      <td>Trinidad</td>\n      <td>NaN</td>\n      <td>NaN</td>\n      <td>NaN</td>\n    </tr>\n    <tr>\n      <th>6</th>\n      <td>Zika Concerns are Spreading in Houston</td>\n      <td>Houston</td>\n      <td>NaN</td>\n      <td>NaN</td>\n      <td>NaN</td>\n    </tr>\n    <tr>\n      <th>7</th>\n      <td>Geneve Scientists Battle to Find Cure</td>\n      <td>Geneve</td>\n      <td>NaN</td>\n      <td>NaN</td>\n      <td>NaN</td>\n    </tr>\n    <tr>\n      <th>8</th>\n      <td>The CDC in Atlanta is Growing Worried</td>\n      <td>Atlanta</td>\n      <td>NaN</td>\n      <td>NaN</td>\n      <td>NaN</td>\n    </tr>\n    <tr>\n      <th>9</th>\n      <td>Zika Infested Monkeys in Sao Paulo</td>\n      <td>Sao Paulo</td>\n      <td>NaN</td>\n      <td>NaN</td>\n      <td>NaN</td>\n    </tr>\n  </tbody>\n</table>\n</div>",
            "text/plain": "                                  headline         cities  latitude  \\\n0                 Zika Outbreak Hits Miami          Miami       NaN   \n1          Could Zika Reach New York City?  New York City       NaN   \n2        First Case of Zika in Miami Beach    Miami Beach       NaN   \n3  Mystery Virus Spreads in Recife, Brazil         Recife       NaN   \n4  Dallas man comes down with case of Zika         Dallas       NaN   \n5        Trinidad confirms first Zika case       Trinidad       NaN   \n6   Zika Concerns are Spreading in Houston        Houston       NaN   \n7    Geneve Scientists Battle to Find Cure         Geneve       NaN   \n8    The CDC in Atlanta is Growing Worried        Atlanta       NaN   \n9       Zika Infested Monkeys in Sao Paulo      Sao Paulo       NaN   \n\n   longitude  countrycode  \n0        NaN          NaN  \n1        NaN          NaN  \n2        NaN          NaN  \n3        NaN          NaN  \n4        NaN          NaN  \n5        NaN          NaN  \n6        NaN          NaN  \n7        NaN          NaN  \n8        NaN          NaN  \n9        NaN          NaN  "
          },
          "metadata": {}
        }
      ]
    },
    {
      "metadata": {
        "trusted": true
      },
      "cell_type": "code",
      "source": "for index in data.index:\n        test=0\n        best_sf = max(gc.get_cities_by_name(data['cities'][test]),\n                 key=lambda x: list(x.values())[0]['population'])\n        sf_data = list(best_sf.values())[0]\n        data['latitude'][index] = sf_data['latitude']\n        data['longitude'][index] = sf_data['longitude']\n        data['countrycode'][index]= sf_data['countrycode']\n        test+=1",
      "execution_count": 95,
      "outputs": [
        {
          "output_type": "stream",
          "text": "/home/nbuser/anaconda3_501/lib/python3.6/site-packages/ipykernel/__main__.py:6: SettingWithCopyWarning: \nA value is trying to be set on a copy of a slice from a DataFrame\n\nSee the caveats in the documentation: http://pandas.pydata.org/pandas-docs/stable/indexing.html#indexing-view-versus-copy\n/home/nbuser/anaconda3_501/lib/python3.6/site-packages/ipykernel/__main__.py:7: SettingWithCopyWarning: \nA value is trying to be set on a copy of a slice from a DataFrame\n\nSee the caveats in the documentation: http://pandas.pydata.org/pandas-docs/stable/indexing.html#indexing-view-versus-copy\n/home/nbuser/anaconda3_501/lib/python3.6/site-packages/ipykernel/__main__.py:8: SettingWithCopyWarning: \nA value is trying to be set on a copy of a slice from a DataFrame\n\nSee the caveats in the documentation: http://pandas.pydata.org/pandas-docs/stable/indexing.html#indexing-view-versus-copy\n",
          "name": "stderr"
        }
      ]
    },
    {
      "metadata": {
        "trusted": true
      },
      "cell_type": "code",
      "source": "data.head(10)",
      "execution_count": 96,
      "outputs": [
        {
          "output_type": "execute_result",
          "execution_count": 96,
          "data": {
            "text/html": "<div>\n<style scoped>\n    .dataframe tbody tr th:only-of-type {\n        vertical-align: middle;\n    }\n\n    .dataframe tbody tr th {\n        vertical-align: top;\n    }\n\n    .dataframe thead th {\n        text-align: right;\n    }\n</style>\n<table border=\"1\" class=\"dataframe\">\n  <thead>\n    <tr style=\"text-align: right;\">\n      <th></th>\n      <th>headline</th>\n      <th>cities</th>\n      <th>latitude</th>\n      <th>longitude</th>\n      <th>countrycode</th>\n    </tr>\n  </thead>\n  <tbody>\n    <tr>\n      <th>0</th>\n      <td>Zika Outbreak Hits Miami</td>\n      <td>Miami</td>\n      <td>25.77427</td>\n      <td>-80.19366</td>\n      <td>US</td>\n    </tr>\n    <tr>\n      <th>1</th>\n      <td>Could Zika Reach New York City?</td>\n      <td>New York City</td>\n      <td>25.77427</td>\n      <td>-80.19366</td>\n      <td>US</td>\n    </tr>\n    <tr>\n      <th>2</th>\n      <td>First Case of Zika in Miami Beach</td>\n      <td>Miami Beach</td>\n      <td>25.77427</td>\n      <td>-80.19366</td>\n      <td>US</td>\n    </tr>\n    <tr>\n      <th>3</th>\n      <td>Mystery Virus Spreads in Recife, Brazil</td>\n      <td>Recife</td>\n      <td>25.77427</td>\n      <td>-80.19366</td>\n      <td>US</td>\n    </tr>\n    <tr>\n      <th>4</th>\n      <td>Dallas man comes down with case of Zika</td>\n      <td>Dallas</td>\n      <td>25.77427</td>\n      <td>-80.19366</td>\n      <td>US</td>\n    </tr>\n    <tr>\n      <th>5</th>\n      <td>Trinidad confirms first Zika case</td>\n      <td>Trinidad</td>\n      <td>25.77427</td>\n      <td>-80.19366</td>\n      <td>US</td>\n    </tr>\n    <tr>\n      <th>6</th>\n      <td>Zika Concerns are Spreading in Houston</td>\n      <td>Houston</td>\n      <td>25.77427</td>\n      <td>-80.19366</td>\n      <td>US</td>\n    </tr>\n    <tr>\n      <th>7</th>\n      <td>Geneve Scientists Battle to Find Cure</td>\n      <td>Geneve</td>\n      <td>25.77427</td>\n      <td>-80.19366</td>\n      <td>US</td>\n    </tr>\n    <tr>\n      <th>8</th>\n      <td>The CDC in Atlanta is Growing Worried</td>\n      <td>Atlanta</td>\n      <td>25.77427</td>\n      <td>-80.19366</td>\n      <td>US</td>\n    </tr>\n    <tr>\n      <th>9</th>\n      <td>Zika Infested Monkeys in Sao Paulo</td>\n      <td>Sao Paulo</td>\n      <td>25.77427</td>\n      <td>-80.19366</td>\n      <td>US</td>\n    </tr>\n  </tbody>\n</table>\n</div>",
            "text/plain": "                                  headline         cities  latitude  \\\n0                 Zika Outbreak Hits Miami          Miami  25.77427   \n1          Could Zika Reach New York City?  New York City  25.77427   \n2        First Case of Zika in Miami Beach    Miami Beach  25.77427   \n3  Mystery Virus Spreads in Recife, Brazil         Recife  25.77427   \n4  Dallas man comes down with case of Zika         Dallas  25.77427   \n5        Trinidad confirms first Zika case       Trinidad  25.77427   \n6   Zika Concerns are Spreading in Houston        Houston  25.77427   \n7    Geneve Scientists Battle to Find Cure         Geneve  25.77427   \n8    The CDC in Atlanta is Growing Worried        Atlanta  25.77427   \n9       Zika Infested Monkeys in Sao Paulo      Sao Paulo  25.77427   \n\n   longitude countrycode  \n0  -80.19366          US  \n1  -80.19366          US  \n2  -80.19366          US  \n3  -80.19366          US  \n4  -80.19366          US  \n5  -80.19366          US  \n6  -80.19366          US  \n7  -80.19366          US  \n8  -80.19366          US  \n9  -80.19366          US  "
          },
          "metadata": {}
        }
      ]
    },
    {
      "metadata": {
        "trusted": true
      },
      "cell_type": "code",
      "source": "",
      "execution_count": null,
      "outputs": []
    }
  ],
  "metadata": {
    "kernelspec": {
      "name": "python36",
      "display_name": "Python 3.6",
      "language": "python"
    },
    "language_info": {
      "mimetype": "text/x-python",
      "nbconvert_exporter": "python",
      "name": "python",
      "pygments_lexer": "ipython3",
      "version": "3.6.6",
      "file_extension": ".py",
      "codemirror_mode": {
        "version": 3,
        "name": "ipython"
      }
    }
  },
  "nbformat": 4,
  "nbformat_minor": 4
}