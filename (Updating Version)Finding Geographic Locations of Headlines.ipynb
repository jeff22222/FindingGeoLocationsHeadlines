{
  "cells": [
    {
      "metadata": {},
      "cell_type": "markdown",
      "source": "Read Data in dataframe"
    },
    {
      "metadata": {
        "trusted": true
      },
      "cell_type": "code",
      "source": "import pandas as pd\nimport numpy as np\ndata = pd.read_json(\"headline_cities_and_countries.json\")\ndata = data.replace({None: np.nan})\ndata=data[[\"headline\",\"countries\",\"cities\"]]\ndata.head()",
      "execution_count": 1,
      "outputs": [
        {
          "output_type": "execute_result",
          "execution_count": 1,
          "data": {
            "text/html": "<div>\n<style scoped>\n    .dataframe tbody tr th:only-of-type {\n        vertical-align: middle;\n    }\n\n    .dataframe tbody tr th {\n        vertical-align: top;\n    }\n\n    .dataframe thead th {\n        text-align: right;\n    }\n</style>\n<table border=\"1\" class=\"dataframe\">\n  <thead>\n    <tr style=\"text-align: right;\">\n      <th></th>\n      <th>headline</th>\n      <th>countries</th>\n      <th>cities</th>\n    </tr>\n  </thead>\n  <tbody>\n    <tr>\n      <th>0</th>\n      <td>Zika Outbreak Hits Miami</td>\n      <td>NaN</td>\n      <td>Miami</td>\n    </tr>\n    <tr>\n      <th>1</th>\n      <td>Could Zika Reach New York City?</td>\n      <td>NaN</td>\n      <td>New York City</td>\n    </tr>\n    <tr>\n      <th>2</th>\n      <td>First Case of Zika in Miami Beach</td>\n      <td>NaN</td>\n      <td>Miami Beach</td>\n    </tr>\n    <tr>\n      <th>3</th>\n      <td>Mystery Virus Spreads in Recife, Brazil</td>\n      <td>Brazil</td>\n      <td>Recife</td>\n    </tr>\n    <tr>\n      <th>4</th>\n      <td>Dallas man comes down with case of Zika</td>\n      <td>NaN</td>\n      <td>Dallas</td>\n    </tr>\n  </tbody>\n</table>\n</div>",
            "text/plain": "                                  headline countries         cities\n0                 Zika Outbreak Hits Miami       NaN          Miami\n1          Could Zika Reach New York City?       NaN  New York City\n2        First Case of Zika in Miami Beach       NaN    Miami Beach\n3  Mystery Virus Spreads in Recife, Brazil    Brazil         Recife\n4  Dallas man comes down with case of Zika       NaN         Dallas"
          },
          "metadata": {}
        }
      ]
    },
    {
      "metadata": {
        "trusted": true
      },
      "cell_type": "code",
      "source": "data.iloc[3:5]",
      "execution_count": 2,
      "outputs": [
        {
          "output_type": "execute_result",
          "execution_count": 2,
          "data": {
            "text/html": "<div>\n<style scoped>\n    .dataframe tbody tr th:only-of-type {\n        vertical-align: middle;\n    }\n\n    .dataframe tbody tr th {\n        vertical-align: top;\n    }\n\n    .dataframe thead th {\n        text-align: right;\n    }\n</style>\n<table border=\"1\" class=\"dataframe\">\n  <thead>\n    <tr style=\"text-align: right;\">\n      <th></th>\n      <th>headline</th>\n      <th>countries</th>\n      <th>cities</th>\n    </tr>\n  </thead>\n  <tbody>\n    <tr>\n      <th>3</th>\n      <td>Mystery Virus Spreads in Recife, Brazil</td>\n      <td>Brazil</td>\n      <td>Recife</td>\n    </tr>\n    <tr>\n      <th>4</th>\n      <td>Dallas man comes down with case of Zika</td>\n      <td>NaN</td>\n      <td>Dallas</td>\n    </tr>\n  </tbody>\n</table>\n</div>",
            "text/plain": "                                  headline countries  cities\n3  Mystery Virus Spreads in Recife, Brazil    Brazil  Recife\n4  Dallas man comes down with case of Zika       NaN  Dallas"
          },
          "metadata": {}
        }
      ]
    },
    {
      "metadata": {
        "trusted": true
      },
      "cell_type": "code",
      "source": "Renaming the columns to singular",
      "execution_count": 3,
      "outputs": [
        {
          "output_type": "error",
          "ename": "SyntaxError",
          "evalue": "invalid syntax (<ipython-input-3-b46076794423>, line 1)",
          "traceback": [
            "\u001b[0;36m  File \u001b[0;32m\"<ipython-input-3-b46076794423>\"\u001b[0;36m, line \u001b[0;32m1\u001b[0m\n\u001b[0;31m    Renaming the columns to singular\u001b[0m\n\u001b[0m               ^\u001b[0m\n\u001b[0;31mSyntaxError\u001b[0m\u001b[0;31m:\u001b[0m invalid syntax\n"
          ]
        }
      ]
    },
    {
      "metadata": {
        "trusted": true
      },
      "cell_type": "code",
      "source": "data = data.rename(columns=dict(countries=\"country\", cities=\"city\"))\ndata.tail()",
      "execution_count": 4,
      "outputs": [
        {
          "output_type": "execute_result",
          "execution_count": 4,
          "data": {
            "text/html": "<div>\n<style scoped>\n    .dataframe tbody tr th:only-of-type {\n        vertical-align: middle;\n    }\n\n    .dataframe tbody tr th {\n        vertical-align: top;\n    }\n\n    .dataframe thead th {\n        text-align: right;\n    }\n</style>\n<table border=\"1\" class=\"dataframe\">\n  <thead>\n    <tr style=\"text-align: right;\">\n      <th></th>\n      <th>headline</th>\n      <th>country</th>\n      <th>city</th>\n    </tr>\n  </thead>\n  <tbody>\n    <tr>\n      <th>645</th>\n      <td>Rumors about Rabies spreading in Jerusalem hav...</td>\n      <td>NaN</td>\n      <td>Jerusalem</td>\n    </tr>\n    <tr>\n      <th>646</th>\n      <td>More Zika patients reported in Indang</td>\n      <td>NaN</td>\n      <td>Indang</td>\n    </tr>\n    <tr>\n      <th>647</th>\n      <td>Suva authorities confirmed the spread of Rotav...</td>\n      <td>NaN</td>\n      <td>Suva</td>\n    </tr>\n    <tr>\n      <th>648</th>\n      <td>More Zika patients reported in Bella Vista</td>\n      <td>NaN</td>\n      <td>Bella Vista</td>\n    </tr>\n    <tr>\n      <th>649</th>\n      <td>Zika Outbreak in Wichita Falls</td>\n      <td>NaN</td>\n      <td>Wichita Falls</td>\n    </tr>\n  </tbody>\n</table>\n</div>",
            "text/plain": "                                              headline country           city\n645  Rumors about Rabies spreading in Jerusalem hav...     NaN      Jerusalem\n646              More Zika patients reported in Indang     NaN         Indang\n647  Suva authorities confirmed the spread of Rotav...     NaN           Suva\n648         More Zika patients reported in Bella Vista     NaN    Bella Vista\n649                     Zika Outbreak in Wichita Falls     NaN  Wichita Falls"
          },
          "metadata": {}
        }
      ]
    },
    {
      "metadata": {},
      "cell_type": "markdown",
      "source": "Investigate the Data"
    },
    {
      "metadata": {
        "trusted": true
      },
      "cell_type": "code",
      "source": "data.describe()",
      "execution_count": 5,
      "outputs": [
        {
          "output_type": "execute_result",
          "execution_count": 5,
          "data": {
            "text/html": "<div>\n<style scoped>\n    .dataframe tbody tr th:only-of-type {\n        vertical-align: middle;\n    }\n\n    .dataframe tbody tr th {\n        vertical-align: top;\n    }\n\n    .dataframe thead th {\n        text-align: right;\n    }\n</style>\n<table border=\"1\" class=\"dataframe\">\n  <thead>\n    <tr style=\"text-align: right;\">\n      <th></th>\n      <th>headline</th>\n      <th>country</th>\n      <th>city</th>\n    </tr>\n  </thead>\n  <tbody>\n    <tr>\n      <th>count</th>\n      <td>650</td>\n      <td>15</td>\n      <td>608</td>\n    </tr>\n    <tr>\n      <th>unique</th>\n      <td>647</td>\n      <td>10</td>\n      <td>574</td>\n    </tr>\n    <tr>\n      <th>top</th>\n      <td>Spanish Flu Outbreak in Lisbon</td>\n      <td>Brazil</td>\n      <td>Madrid</td>\n    </tr>\n    <tr>\n      <th>freq</th>\n      <td>2</td>\n      <td>3</td>\n      <td>4</td>\n    </tr>\n  </tbody>\n</table>\n</div>",
            "text/plain": "                              headline country    city\ncount                              650      15     608\nunique                             647      10     574\ntop     Spanish Flu Outbreak in Lisbon  Brazil  Madrid\nfreq                                 2       3       4"
          },
          "metadata": {}
        }
      ]
    },
    {
      "metadata": {},
      "cell_type": "markdown",
      "source": "Some duplicates in the data then check for duplicates and then drop any that are duplicated"
    },
    {
      "metadata": {
        "trusted": true
      },
      "cell_type": "code",
      "source": "data[\"headline\"].value_counts().sort_values().tail()",
      "execution_count": 6,
      "outputs": [
        {
          "output_type": "execute_result",
          "execution_count": 6,
          "data": {
            "text/plain": "Rumors about Syphilis spreading in Penal have been refuted    1\nZika cases in Singapore reach 393                             1\nSpanish Flu Spreading through Madrid                          2\nBarcelona Struck by Spanish Flu                               2\nSpanish Flu Outbreak in Lisbon                                2\nName: headline, dtype: int64"
          },
          "metadata": {}
        }
      ]
    },
    {
      "metadata": {
        "trusted": true
      },
      "cell_type": "code",
      "source": "print(f\"There were {len(data)} rows before dropping duplicates.\")\ndata = data.drop_duplicates()\nprint(f\"There are {len(data)} rows after dropping duplicates.\")",
      "execution_count": 7,
      "outputs": [
        {
          "output_type": "stream",
          "text": "There were 650 rows before dropping duplicates.\nThere are 647 rows after dropping duplicates.\n",
          "name": "stdout"
        }
      ]
    },
    {
      "metadata": {
        "trusted": true
      },
      "cell_type": "code",
      "source": "data.info()",
      "execution_count": 8,
      "outputs": [
        {
          "output_type": "stream",
          "text": "<class 'pandas.core.frame.DataFrame'>\nInt64Index: 647 entries, 0 to 649\nData columns (total 3 columns):\nheadline    647 non-null object\ncountry     15 non-null object\ncity        605 non-null object\ndtypes: object(3)\nmemory usage: 20.2+ KB\n",
          "name": "stdout"
        }
      ]
    },
    {
      "metadata": {},
      "cell_type": "markdown",
      "source": "Exploratory Plots"
    },
    {
      "metadata": {
        "trusted": true
      },
      "cell_type": "code",
      "source": "data['country'].value_counts()",
      "execution_count": 9,
      "outputs": [
        {
          "output_type": "execute_result",
          "execution_count": 9,
          "data": {
            "text/plain": "Brazil       3\nMalaysia     3\nPanama       2\nSingapore    1\nVietnam      1\nGuatemala    1\nBelize       1\nMexico       1\nThailand     1\nHong Kong    1\nName: country, dtype: int64"
          },
          "metadata": {}
        }
      ]
    },
    {
      "metadata": {
        "trusted": true
      },
      "cell_type": "code",
      "source": "%matplotlib inline\n\n_ = data['country'].value_counts().plot.bar(title='Count of Countries')",
      "execution_count": 10,
      "outputs": [
        {
          "output_type": "display_data",
          "data": {
            "image/png": "[encoded data removed]",
            "text/plain": "<Figure size 432x288 with 1 Axes>"
          },
          "metadata": {
            "needs_background": "light"
          }
        }
      ]
    },
    {
      "metadata": {
        "trusted": true
      },
      "cell_type": "code",
      "source": "print(f'There are {data[\"country\"].nunique()} different countries.')\nprint(f'There are {data[\"city\"].nunique()} different cities.')",
      "execution_count": 11,
      "outputs": [
        {
          "output_type": "stream",
          "text": "There are 10 different countries.\nThere are 574 different cities.\n",
          "name": "stdout"
        }
      ]
    },
    {
      "metadata": {},
      "cell_type": "markdown",
      "source": "We have many more cities, so a bar plot might not be the best graphic."
    },
    {
      "metadata": {
        "trusted": true
      },
      "cell_type": "code",
      "source": "data[\"city\"].value_counts().sort_values().tail(10)",
      "execution_count": 12,
      "outputs": [
        {
          "output_type": "execute_result",
          "execution_count": 12,
          "data": {
            "text/plain": "Barcelona       2\nCambridge       2\nPalm Springs    2\nOrange          2\nJefferson       2\nGreenville      2\nJohannesburg    2\nMadrid          3\nMiami           4\nMonroe          4\nName: city, dtype: int64"
          },
          "metadata": {}
        }
      ]
    },
    {
      "metadata": {},
      "cell_type": "markdown",
      "source": "Let's just look at the 10 most common cities."
    },
    {
      "metadata": {
        "trusted": true
      },
      "cell_type": "code",
      "source": "data[\"city\"].value_counts().sort_values().tail(10)",
      "execution_count": 13,
      "outputs": [
        {
          "output_type": "execute_result",
          "execution_count": 13,
          "data": {
            "text/plain": "Barcelona       2\nCambridge       2\nPalm Springs    2\nOrange          2\nJefferson       2\nGreenville      2\nJohannesburg    2\nMadrid          3\nMiami           4\nMonroe          4\nName: city, dtype: int64"
          },
          "metadata": {}
        }
      ]
    },
    {
      "metadata": {
        "trusted": true
      },
      "cell_type": "code",
      "source": "_ = (\n    data[\"city\"]\n    .value_counts()\n    .sort_values()\n    .tail(10)\n    .plot.bar(title=\"10 Most Common Cities\")\n)",
      "execution_count": 14,
      "outputs": [
        {
          "output_type": "display_data",
          "data": {
            "image/png": "[encoded data removed]",
            "text/plain": "<Figure size 432x288 with 1 Axes>"
          },
          "metadata": {
            "needs_background": "light"
          }
        }
      ]
    },
    {
      "metadata": {
        "trusted": true
      },
      "cell_type": "code",
      "source": "_ = data[\"city\"].value_counts().plot.hist(title=\"Distribution of City Occurences\")",
      "execution_count": 15,
      "outputs": [
        {
          "output_type": "display_data",
          "data": {
            "image/png": "[encoded data removed]",
            "text/plain": "<Figure size 432x288 with 1 Axes>"
          },
          "metadata": {
            "needs_background": "light"
          }
        }
      ]
    },
    {
      "metadata": {},
      "cell_type": "markdown",
      "source": "For finding the cities, we need to use accented city names. We'll create an accented name column using our mapping from the previous section"
    },
    {
      "metadata": {
        "trusted": true
      },
      "cell_type": "code",
      "source": "!pip install geonamescache unidecode\n\nimport geonamescache\nimport unidecode\n\nimport json\n\ngc = geonamescache.GeonamesCache()\n\n# Read in the saved unaccented:accented mapping\nwith open(\"city_accent_mapping.json\", \"r\") as fin:\n    city_accented_mapping = json.loads(fin.read())\n\n# Create a column for accented cities\ndata[\"accented_city\"] = data[\"city\"].map(city_accented_mapping)\ndata[data[\"city\"] != data[\"accented_city\"]].head()",
      "execution_count": 17,
      "outputs": [
        {
          "output_type": "stream",
          "text": "Collecting geonamescache\n\u001b[?25l  Downloading https://files.pythonhosted.org/packages/32/c1/efb823270c8526b2f4f3eb8c804c5a0a55277267ad2312f5eb47bd9cc370/geonamescache-1.1.0-py3-none-any.whl (830kB)\n\u001b[K     |████████████████████████████████| 839kB 4.5MB/s eta 0:00:01\n\u001b[?25hCollecting unidecode\n\u001b[?25l  Downloading https://files.pythonhosted.org/packages/d0/42/d9edfed04228bacea2d824904cae367ee9efd05e6cce7ceaaedd0b0ad964/Unidecode-1.1.1-py2.py3-none-any.whl (238kB)\n\u001b[K     |████████████████████████████████| 245kB 25.1MB/s eta 0:00:01\n\u001b[?25hInstalling collected packages: geonamescache, unidecode\nSuccessfully installed geonamescache-1.1.0 unidecode-1.1.1\n\u001b[33mWARNING: You are using pip version 19.3.1; however, version 20.0.2 is available.\nYou should consider upgrading via the 'pip install --upgrade pip' command.\u001b[0m\n",
          "name": "stdout"
        },
        {
          "output_type": "execute_result",
          "execution_count": 17,
          "data": {
            "text/html": "<div>\n<style scoped>\n    .dataframe tbody tr th:only-of-type {\n        vertical-align: middle;\n    }\n\n    .dataframe tbody tr th {\n        vertical-align: top;\n    }\n\n    .dataframe thead th {\n        text-align: right;\n    }\n</style>\n<table border=\"1\" class=\"dataframe\">\n  <thead>\n    <tr style=\"text-align: right;\">\n      <th></th>\n      <th>headline</th>\n      <th>country</th>\n      <th>city</th>\n      <th>accented_city</th>\n    </tr>\n  </thead>\n  <tbody>\n    <tr>\n      <th>7</th>\n      <td>Geneve Scientists Battle to Find Cure</td>\n      <td>NaN</td>\n      <td>Geneve</td>\n      <td>Genève</td>\n    </tr>\n    <tr>\n      <th>9</th>\n      <td>Zika Infested Monkeys in Sao Paulo</td>\n      <td>NaN</td>\n      <td>Sao Paulo</td>\n      <td>São Paulo</td>\n    </tr>\n    <tr>\n      <th>17</th>\n      <td>Louisiana Zika cases up to 26</td>\n      <td>NaN</td>\n      <td>NaN</td>\n      <td>NaN</td>\n    </tr>\n    <tr>\n      <th>19</th>\n      <td>Zika infects pregnant woman in Cebu</td>\n      <td>NaN</td>\n      <td>NaN</td>\n      <td>NaN</td>\n    </tr>\n    <tr>\n      <th>47</th>\n      <td>18 new Zika Cases in Bogota</td>\n      <td>NaN</td>\n      <td>Bogota</td>\n      <td>Bogotá</td>\n    </tr>\n  </tbody>\n</table>\n</div>",
            "text/plain": "                                 headline country       city accented_city\n7   Geneve Scientists Battle to Find Cure     NaN     Geneve        Genève\n9      Zika Infested Monkeys in Sao Paulo     NaN  Sao Paulo     São Paulo\n17          Louisiana Zika cases up to 26     NaN        NaN           NaN\n19    Zika infects pregnant woman in Cebu     NaN        NaN           NaN\n47            18 new Zika Cases in Bogota     NaN     Bogota        Bogotá"
          },
          "metadata": {}
        }
      ]
    },
    {
      "metadata": {},
      "cell_type": "markdown",
      "source": "For each city with multiple entries in geonames,choosing the city with the greatest population.\n\nThis is may occassionally be wrong, but a headline is more likely to mention a larger city (by population)."
    },
    {
      "metadata": {
        "trusted": true
      },
      "cell_type": "code",
      "source": "city = 'Boston'\ngc.get_cities_by_name(city)",
      "execution_count": 26,
      "outputs": [
        {
          "output_type": "execute_result",
          "execution_count": 26,
          "data": {
            "text/plain": "[{'2655138': {'geonameid': 2655138,\n   'name': 'Boston',\n   'latitude': 52.97633,\n   'longitude': -0.02664,\n   'countrycode': 'GB',\n   'population': 41340,\n   'timezone': 'Europe/London',\n   'admin1code': 'ENG'}},\n {'4930956': {'geonameid': 4930956,\n   'name': 'Boston',\n   'latitude': 42.35843,\n   'longitude': -71.05977,\n   'countrycode': 'US',\n   'population': 667137,\n   'timezone': 'America/New_York',\n   'admin1code': 'MA'}}]"
          },
          "metadata": {}
        }
      ]
    },
    {
      "metadata": {},
      "cell_type": "markdown",
      "source": "To get the largest city, we sort the matches by the population key."
    },
    {
      "metadata": {
        "trusted": true
      },
      "cell_type": "code",
      "source": "matches = gc.get_cities_by_name(city)\nmatches = [{k: v for k, v in list(match.values())[0].items()} for match in matches]\nmatches = sorted(matches, key=lambda x: x[\"population\"], reverse=True)\nmatches",
      "execution_count": 27,
      "outputs": [
        {
          "output_type": "execute_result",
          "execution_count": 27,
          "data": {
            "text/plain": "[{'geonameid': 4930956,\n  'name': 'Boston',\n  'latitude': 42.35843,\n  'longitude': -71.05977,\n  'countrycode': 'US',\n  'population': 667137,\n  'timezone': 'America/New_York',\n  'admin1code': 'MA'},\n {'geonameid': 2655138,\n  'name': 'Boston',\n  'latitude': 52.97633,\n  'longitude': -0.02664,\n  'countrycode': 'GB',\n  'population': 41340,\n  'timezone': 'Europe/London',\n  'admin1code': 'ENG'}]"
          },
          "metadata": {}
        }
      ]
    },
    {
      "metadata": {},
      "cell_type": "markdown",
      "source": "Now let's find the locations of all the cities in the headlines. We'll want to be careful to go through the accented city names. If there are multiple matches for a city, we'll take the largest city."
    },
    {
      "metadata": {
        "trusted": true
      },
      "cell_type": "code",
      "source": "city_locations = []\n\n# Go through all the accented cities\nfor city in data[\"accented_city\"]:\n    # Find matches (if any)\n    matches = gc.get_cities_by_name(city)\n    if matches:\n        # Sort from largest to smallest population\n        matches = [\n            {k: v for k, v in list(match.values())[0].items()} for match in matches\n        ]\n        matches = sorted(matches, key=lambda x: x[\"population\"], reverse=True)\n\n        # Find the match with the largest population\n        match = matches[0]\n\n        # Record the information\n        city_locations.append(\n            {\n                \"name\": match[\"name\"],\n                \"latitude\": match[\"latitude\"],\n                \"longitude\": match[\"longitude\"],\n                \"countrycode\": match[\"countrycode\"],\n                \"pop\": match[\"population\"],\n            }\n        )\n\ncity_locations[-5:]",
      "execution_count": 28,
      "outputs": [
        {
          "output_type": "execute_result",
          "execution_count": 28,
          "data": {
            "text/plain": "[{'name': 'Jerusalem',\n  'latitude': 31.76904,\n  'longitude': 35.21633,\n  'countrycode': 'IL',\n  'pop': 801000},\n {'name': 'Indang',\n  'latitude': 14.19528,\n  'longitude': 120.87694,\n  'countrycode': 'PH',\n  'pop': 41159},\n {'name': 'Suva',\n  'latitude': -18.14161,\n  'longitude': 178.44149,\n  'countrycode': 'FJ',\n  'pop': 77366},\n {'name': 'Bella Vista',\n  'latitude': 18.45539,\n  'longitude': -69.9454,\n  'countrycode': 'DO',\n  'pop': 175683},\n {'name': 'Wichita Falls',\n  'latitude': 33.91371,\n  'longitude': -98.49339,\n  'countrycode': 'US',\n  'pop': 104710}]"
          },
          "metadata": {}
        }
      ]
    },
    {
      "metadata": {},
      "cell_type": "markdown",
      "source": "convert this list of dictionaries to a dataframe."
    },
    {
      "metadata": {
        "trusted": true
      },
      "cell_type": "code",
      "source": "city_locations = pd.DataFrame(city_locations)\ncity_locations.tail()",
      "execution_count": 29,
      "outputs": [
        {
          "output_type": "execute_result",
          "execution_count": 29,
          "data": {
            "text/html": "<div>\n<style scoped>\n    .dataframe tbody tr th:only-of-type {\n        vertical-align: middle;\n    }\n\n    .dataframe tbody tr th {\n        vertical-align: top;\n    }\n\n    .dataframe thead th {\n        text-align: right;\n    }\n</style>\n<table border=\"1\" class=\"dataframe\">\n  <thead>\n    <tr style=\"text-align: right;\">\n      <th></th>\n      <th>countrycode</th>\n      <th>latitude</th>\n      <th>longitude</th>\n      <th>name</th>\n      <th>pop</th>\n    </tr>\n  </thead>\n  <tbody>\n    <tr>\n      <th>600</th>\n      <td>IL</td>\n      <td>31.76904</td>\n      <td>35.21633</td>\n      <td>Jerusalem</td>\n      <td>801000</td>\n    </tr>\n    <tr>\n      <th>601</th>\n      <td>PH</td>\n      <td>14.19528</td>\n      <td>120.87694</td>\n      <td>Indang</td>\n      <td>41159</td>\n    </tr>\n    <tr>\n      <th>602</th>\n      <td>FJ</td>\n      <td>-18.14161</td>\n      <td>178.44149</td>\n      <td>Suva</td>\n      <td>77366</td>\n    </tr>\n    <tr>\n      <th>603</th>\n      <td>DO</td>\n      <td>18.45539</td>\n      <td>-69.94540</td>\n      <td>Bella Vista</td>\n      <td>175683</td>\n    </tr>\n    <tr>\n      <th>604</th>\n      <td>US</td>\n      <td>33.91371</td>\n      <td>-98.49339</td>\n      <td>Wichita Falls</td>\n      <td>104710</td>\n    </tr>\n  </tbody>\n</table>\n</div>",
            "text/plain": "    countrycode  latitude  longitude           name     pop\n600          IL  31.76904   35.21633      Jerusalem  801000\n601          PH  14.19528  120.87694         Indang   41159\n602          FJ -18.14161  178.44149           Suva   77366\n603          DO  18.45539  -69.94540    Bella Vista  175683\n604          US  33.91371  -98.49339  Wichita Falls  104710"
          },
          "metadata": {}
        }
      ]
    },
    {
      "metadata": {
        "trusted": true
      },
      "cell_type": "code",
      "source": "city_locations = city_locations.drop_duplicates()\nprint(f\"We have the locations for {city_locations.shape[0]} unique cities.\")",
      "execution_count": 30,
      "outputs": [
        {
          "output_type": "stream",
          "text": "We have the locations for 574 unique cities.\n",
          "name": "stdout"
        }
      ]
    },
    {
      "metadata": {},
      "cell_type": "markdown",
      "source": "Next let's merge with the headlines on the accented_city and name."
    },
    {
      "metadata": {
        "trusted": true
      },
      "cell_type": "code",
      "source": "data = pd.merge(\n    data, city_locations, left_on=\"accented_city\", right_on=\"name\", how=\"left\"\n)\ndata.head()",
      "execution_count": 31,
      "outputs": [
        {
          "output_type": "execute_result",
          "execution_count": 31,
          "data": {
            "text/html": "<div>\n<style scoped>\n    .dataframe tbody tr th:only-of-type {\n        vertical-align: middle;\n    }\n\n    .dataframe tbody tr th {\n        vertical-align: top;\n    }\n\n    .dataframe thead th {\n        text-align: right;\n    }\n</style>\n<table border=\"1\" class=\"dataframe\">\n  <thead>\n    <tr style=\"text-align: right;\">\n      <th></th>\n      <th>headline</th>\n      <th>country</th>\n      <th>city</th>\n      <th>accented_city</th>\n      <th>countrycode</th>\n      <th>latitude</th>\n      <th>longitude</th>\n      <th>name</th>\n      <th>pop</th>\n    </tr>\n  </thead>\n  <tbody>\n    <tr>\n      <th>0</th>\n      <td>Zika Outbreak Hits Miami</td>\n      <td>NaN</td>\n      <td>Miami</td>\n      <td>Miami</td>\n      <td>US</td>\n      <td>25.77427</td>\n      <td>-80.19366</td>\n      <td>Miami</td>\n      <td>441003.0</td>\n    </tr>\n    <tr>\n      <th>1</th>\n      <td>Could Zika Reach New York City?</td>\n      <td>NaN</td>\n      <td>New York City</td>\n      <td>New York City</td>\n      <td>US</td>\n      <td>40.71427</td>\n      <td>-74.00597</td>\n      <td>New York City</td>\n      <td>8175133.0</td>\n    </tr>\n    <tr>\n      <th>2</th>\n      <td>First Case of Zika in Miami Beach</td>\n      <td>NaN</td>\n      <td>Miami Beach</td>\n      <td>Miami Beach</td>\n      <td>US</td>\n      <td>25.79065</td>\n      <td>-80.13005</td>\n      <td>Miami Beach</td>\n      <td>92312.0</td>\n    </tr>\n    <tr>\n      <th>3</th>\n      <td>Mystery Virus Spreads in Recife, Brazil</td>\n      <td>Brazil</td>\n      <td>Recife</td>\n      <td>Recife</td>\n      <td>BR</td>\n      <td>-8.05389</td>\n      <td>-34.88111</td>\n      <td>Recife</td>\n      <td>1478098.0</td>\n    </tr>\n    <tr>\n      <th>4</th>\n      <td>Dallas man comes down with case of Zika</td>\n      <td>NaN</td>\n      <td>Dallas</td>\n      <td>Dallas</td>\n      <td>US</td>\n      <td>32.78306</td>\n      <td>-96.80667</td>\n      <td>Dallas</td>\n      <td>1300092.0</td>\n    </tr>\n  </tbody>\n</table>\n</div>",
            "text/plain": "                                  headline country           city  \\\n0                 Zika Outbreak Hits Miami     NaN          Miami   \n1          Could Zika Reach New York City?     NaN  New York City   \n2        First Case of Zika in Miami Beach     NaN    Miami Beach   \n3  Mystery Virus Spreads in Recife, Brazil  Brazil         Recife   \n4  Dallas man comes down with case of Zika     NaN         Dallas   \n\n   accented_city countrycode  latitude  longitude           name        pop  \n0          Miami          US  25.77427  -80.19366          Miami   441003.0  \n1  New York City          US  40.71427  -74.00597  New York City  8175133.0  \n2    Miami Beach          US  25.79065  -80.13005    Miami Beach    92312.0  \n3         Recife          BR  -8.05389  -34.88111         Recife  1478098.0  \n4         Dallas          US  32.78306  -96.80667         Dallas  1300092.0  "
          },
          "metadata": {}
        }
      ]
    },
    {
      "metadata": {},
      "cell_type": "markdown",
      "source": "Let's make sure keeping the largest city worked. We can try Boston as well as Rochester, both of which should be in the United States."
    },
    {
      "metadata": {
        "trusted": true
      },
      "cell_type": "code",
      "source": "data[data['city'] == 'Boston']",
      "execution_count": 32,
      "outputs": [
        {
          "output_type": "execute_result",
          "execution_count": 32,
          "data": {
            "text/html": "<div>\n<style scoped>\n    .dataframe tbody tr th:only-of-type {\n        vertical-align: middle;\n    }\n\n    .dataframe tbody tr th {\n        vertical-align: top;\n    }\n\n    .dataframe thead th {\n        text-align: right;\n    }\n</style>\n<table border=\"1\" class=\"dataframe\">\n  <thead>\n    <tr style=\"text-align: right;\">\n      <th></th>\n      <th>headline</th>\n      <th>country</th>\n      <th>city</th>\n      <th>accented_city</th>\n      <th>countrycode</th>\n      <th>latitude</th>\n      <th>longitude</th>\n      <th>name</th>\n      <th>pop</th>\n    </tr>\n  </thead>\n  <tbody>\n    <tr>\n      <th>27</th>\n      <td>Flu season hits Boston</td>\n      <td>NaN</td>\n      <td>Boston</td>\n      <td>Boston</td>\n      <td>US</td>\n      <td>42.35843</td>\n      <td>-71.05977</td>\n      <td>Boston</td>\n      <td>667137.0</td>\n    </tr>\n  </tbody>\n</table>\n</div>",
            "text/plain": "                  headline country    city accented_city countrycode  \\\n27  Flu season hits Boston     NaN  Boston        Boston          US   \n\n    latitude  longitude    name       pop  \n27  42.35843  -71.05977  Boston  667137.0  "
          },
          "metadata": {}
        }
      ]
    },
    {
      "metadata": {
        "trusted": true
      },
      "cell_type": "code",
      "source": "data[data['city'] == 'Rochester']",
      "execution_count": 33,
      "outputs": [
        {
          "output_type": "execute_result",
          "execution_count": 33,
          "data": {
            "text/html": "<div>\n<style scoped>\n    .dataframe tbody tr th:only-of-type {\n        vertical-align: middle;\n    }\n\n    .dataframe tbody tr th {\n        vertical-align: top;\n    }\n\n    .dataframe thead th {\n        text-align: right;\n    }\n</style>\n<table border=\"1\" class=\"dataframe\">\n  <thead>\n    <tr style=\"text-align: right;\">\n      <th></th>\n      <th>headline</th>\n      <th>country</th>\n      <th>city</th>\n      <th>accented_city</th>\n      <th>countrycode</th>\n      <th>latitude</th>\n      <th>longitude</th>\n      <th>name</th>\n      <th>pop</th>\n    </tr>\n  </thead>\n  <tbody>\n    <tr>\n      <th>84</th>\n      <td>Rochester authorities confirmed the spread of ...</td>\n      <td>NaN</td>\n      <td>Rochester</td>\n      <td>Rochester</td>\n      <td>US</td>\n      <td>43.15478</td>\n      <td>-77.61556</td>\n      <td>Rochester</td>\n      <td>209802.0</td>\n    </tr>\n    <tr>\n      <th>298</th>\n      <td>Herpes Keeps Spreading in Rochester</td>\n      <td>NaN</td>\n      <td>Rochester</td>\n      <td>Rochester</td>\n      <td>US</td>\n      <td>43.15478</td>\n      <td>-77.61556</td>\n      <td>Rochester</td>\n      <td>209802.0</td>\n    </tr>\n  </tbody>\n</table>\n</div>",
            "text/plain": "                                              headline country       city  \\\n84   Rochester authorities confirmed the spread of ...     NaN  Rochester   \n298                Herpes Keeps Spreading in Rochester     NaN  Rochester   \n\n    accented_city countrycode  latitude  longitude       name       pop  \n84      Rochester          US  43.15478  -77.61556  Rochester  209802.0  \n298     Rochester          US  43.15478  -77.61556  Rochester  209802.0  "
          },
          "metadata": {}
        }
      ]
    },
    {
      "metadata": {},
      "cell_type": "markdown",
      "source": "Data Cleaning"
    },
    {
      "metadata": {
        "trusted": true
      },
      "cell_type": "code",
      "source": "_ = data.isna().sum().plot.bar(title='Missing Values by Column')",
      "execution_count": 35,
      "outputs": [
        {
          "output_type": "display_data",
          "data": {
            "image/png": "[encoded data removed]",
            "text/plain": "<Figure size 432x288 with 1 Axes>"
          },
          "metadata": {
            "needs_background": "light"
          }
        }
      ]
    },
    {
      "metadata": {},
      "cell_type": "markdown",
      "source": "see there are quite a few missing values in the country column. Let's just remove the country since it does not give us much information."
    },
    {
      "metadata": {
        "trusted": true
      },
      "cell_type": "code",
      "source": "data = data.drop(columns=['country'])",
      "execution_count": 36,
      "outputs": []
    },
    {
      "metadata": {},
      "cell_type": "markdown",
      "source": "Let's investigate the headlines where we don't have a name. We might be able to figure out more data cleaning steps to take."
    },
    {
      "metadata": {
        "trusted": true
      },
      "cell_type": "code",
      "source": "pd.options.display.max_colwidth = 100\n\nno_name = data[data[\"name\"].isna()].copy()\n\nprint(f\"There are {len(no_name)} headlines without a city.\")\n\nno_name.tail()",
      "execution_count": 37,
      "outputs": [
        {
          "output_type": "stream",
          "text": "There are 42 headlines without a city.\n",
          "name": "stdout"
        },
        {
          "output_type": "execute_result",
          "execution_count": 37,
          "data": {
            "text/html": "<div>\n<style scoped>\n    .dataframe tbody tr th:only-of-type {\n        vertical-align: middle;\n    }\n\n    .dataframe tbody tr th {\n        vertical-align: top;\n    }\n\n    .dataframe thead th {\n        text-align: right;\n    }\n</style>\n<table border=\"1\" class=\"dataframe\">\n  <thead>\n    <tr style=\"text-align: right;\">\n      <th></th>\n      <th>headline</th>\n      <th>city</th>\n      <th>accented_city</th>\n      <th>countrycode</th>\n      <th>latitude</th>\n      <th>longitude</th>\n      <th>name</th>\n      <th>pop</th>\n    </tr>\n  </thead>\n  <tbody>\n    <tr>\n      <th>596</th>\n      <td>Zika arrives in Dangriga</td>\n      <td>NaN</td>\n      <td>NaN</td>\n      <td>NaN</td>\n      <td>NaN</td>\n      <td>NaN</td>\n      <td>NaN</td>\n      <td>NaN</td>\n    </tr>\n    <tr>\n      <th>601</th>\n      <td>More Patients in Maynard are Getting Diagnosed with Syphilis</td>\n      <td>NaN</td>\n      <td>NaN</td>\n      <td>NaN</td>\n      <td>NaN</td>\n      <td>NaN</td>\n      <td>NaN</td>\n      <td>NaN</td>\n    </tr>\n    <tr>\n      <th>625</th>\n      <td>Zika case reported in Antioquia</td>\n      <td>NaN</td>\n      <td>NaN</td>\n      <td>NaN</td>\n      <td>NaN</td>\n      <td>NaN</td>\n      <td>NaN</td>\n      <td>NaN</td>\n    </tr>\n    <tr>\n      <th>627</th>\n      <td>Chikungunya has not Left Pismo Beach</td>\n      <td>NaN</td>\n      <td>NaN</td>\n      <td>NaN</td>\n      <td>NaN</td>\n      <td>NaN</td>\n      <td>NaN</td>\n      <td>NaN</td>\n    </tr>\n    <tr>\n      <th>628</th>\n      <td>Zika spreads to La Joya</td>\n      <td>NaN</td>\n      <td>NaN</td>\n      <td>NaN</td>\n      <td>NaN</td>\n      <td>NaN</td>\n      <td>NaN</td>\n      <td>NaN</td>\n    </tr>\n  </tbody>\n</table>\n</div>",
            "text/plain": "                                                         headline city  \\\n596                                      Zika arrives in Dangriga  NaN   \n601  More Patients in Maynard are Getting Diagnosed with Syphilis  NaN   \n625                               Zika case reported in Antioquia  NaN   \n627                          Chikungunya has not Left Pismo Beach  NaN   \n628                                       Zika spreads to La Joya  NaN   \n\n    accented_city countrycode  latitude  longitude name  pop  \n596           NaN         NaN       NaN        NaN  NaN  NaN  \n601           NaN         NaN       NaN        NaN  NaN  NaN  \n625           NaN         NaN       NaN        NaN  NaN  NaN  \n627           NaN         NaN       NaN        NaN  NaN  NaN  \n628           NaN         NaN       NaN        NaN  NaN  NaN  "
          },
          "metadata": {}
        }
      ]
    },
    {
      "metadata": {
        "trusted": true
      },
      "cell_type": "code",
      "source": "city_set = set(city_accented_mapping.keys())\n\nfor city in [\"Dangriga\", \"Maynard\", \"Antioquia\", \"Pismo Beach\", \"La Joya\"]:\n    if city in city_set:\n        print(\"Found \", city)\n    else:\n        print(\"Did Not Find City\")",
      "execution_count": 38,
      "outputs": [
        {
          "output_type": "stream",
          "text": "Did Not Find City\nDid Not Find City\nDid Not Find City\nDid Not Find City\nDid Not Find City\n",
          "name": "stdout"
        }
      ]
    },
    {
      "metadata": {},
      "cell_type": "markdown",
      "source": "It appears that the 42 headlines without a city name may have a city, but it is not included in geonamescache. We'll have to go ahead and remove these cities since they cannot be used."
    },
    {
      "metadata": {
        "trusted": true
      },
      "cell_type": "code",
      "source": "data = data.dropna(subset=['name'])\ndata.describe()",
      "execution_count": 39,
      "outputs": [
        {
          "output_type": "execute_result",
          "execution_count": 39,
          "data": {
            "text/html": "<div>\n<style scoped>\n    .dataframe tbody tr th:only-of-type {\n        vertical-align: middle;\n    }\n\n    .dataframe tbody tr th {\n        vertical-align: top;\n    }\n\n    .dataframe thead th {\n        text-align: right;\n    }\n</style>\n<table border=\"1\" class=\"dataframe\">\n  <thead>\n    <tr style=\"text-align: right;\">\n      <th></th>\n      <th>latitude</th>\n      <th>longitude</th>\n      <th>pop</th>\n    </tr>\n  </thead>\n  <tbody>\n    <tr>\n      <th>count</th>\n      <td>605.000000</td>\n      <td>605.000000</td>\n      <td>6.050000e+02</td>\n    </tr>\n    <tr>\n      <th>mean</th>\n      <td>26.730761</td>\n      <td>-38.233048</td>\n      <td>8.910827e+05</td>\n    </tr>\n    <tr>\n      <th>std</th>\n      <td>20.631955</td>\n      <td>79.475181</td>\n      <td>1.973884e+06</td>\n    </tr>\n    <tr>\n      <th>min</th>\n      <td>-53.787690</td>\n      <td>-156.506040</td>\n      <td>1.338100e+04</td>\n    </tr>\n    <tr>\n      <th>25%</th>\n      <td>15.711800</td>\n      <td>-90.444300</td>\n      <td>5.952300e+04</td>\n    </tr>\n    <tr>\n      <th>50%</th>\n      <td>33.749000</td>\n      <td>-76.496610</td>\n      <td>1.713800e+05</td>\n    </tr>\n    <tr>\n      <th>75%</th>\n      <td>40.714270</td>\n      <td>7.095490</td>\n      <td>6.480340e+05</td>\n    </tr>\n    <tr>\n      <th>max</th>\n      <td>59.938630</td>\n      <td>179.364510</td>\n      <td>1.307630e+07</td>\n    </tr>\n  </tbody>\n</table>\n</div>",
            "text/plain": "         latitude   longitude           pop\ncount  605.000000  605.000000  6.050000e+02\nmean    26.730761  -38.233048  8.910827e+05\nstd     20.631955   79.475181  1.973884e+06\nmin    -53.787690 -156.506040  1.338100e+04\n25%     15.711800  -90.444300  5.952300e+04\n50%     33.749000  -76.496610  1.713800e+05\n75%     40.714270    7.095490  6.480340e+05\nmax     59.938630  179.364510  1.307630e+07"
          },
          "metadata": {}
        }
      ]
    },
    {
      "metadata": {
        "trusted": true
      },
      "cell_type": "code",
      "source": "print(f'We have the city locations for {len(data)} cities.')",
      "execution_count": 40,
      "outputs": [
        {
          "output_type": "stream",
          "text": "We have the city locations for 605 cities.\n",
          "name": "stdout"
        }
      ]
    },
    {
      "metadata": {
        "trusted": true
      },
      "cell_type": "code",
      "source": "_ = data['pop'].plot.hist(title='Histogram of Population')",
      "execution_count": 41,
      "outputs": [
        {
          "output_type": "display_data",
          "data": {
            "image/png": "[encoded data removed]",
            "text/plain": "<Figure size 432x288 with 1 Axes>"
          },
          "metadata": {
            "needs_background": "light"
          }
        }
      ]
    },
    {
      "metadata": {
        "trusted": true
      },
      "cell_type": "code",
      "source": "_ = data.plot.scatter(\n    x=\"longitude\", y=\"latitude\", title=\"Scatter Plot of Latitude and Longitude\"\n)",
      "execution_count": 42,
      "outputs": [
        {
          "output_type": "display_data",
          "data": {
            "image/png": "[encoded data removed]",
            "text/plain": "<Figure size 432x288 with 1 Axes>"
          },
          "metadata": {
            "needs_background": "light"
          }
        }
      ]
    },
    {
      "metadata": {
        "trusted": true
      },
      "cell_type": "code",
      "source": "data = data.drop(columns=['name'])\ndata.tail()",
      "execution_count": 43,
      "outputs": [
        {
          "output_type": "execute_result",
          "execution_count": 43,
          "data": {
            "text/html": "<div>\n<style scoped>\n    .dataframe tbody tr th:only-of-type {\n        vertical-align: middle;\n    }\n\n    .dataframe tbody tr th {\n        vertical-align: top;\n    }\n\n    .dataframe thead th {\n        text-align: right;\n    }\n</style>\n<table border=\"1\" class=\"dataframe\">\n  <thead>\n    <tr style=\"text-align: right;\">\n      <th></th>\n      <th>headline</th>\n      <th>city</th>\n      <th>accented_city</th>\n      <th>countrycode</th>\n      <th>latitude</th>\n      <th>longitude</th>\n      <th>pop</th>\n    </tr>\n  </thead>\n  <tbody>\n    <tr>\n      <th>642</th>\n      <td>Rumors about Rabies spreading in Jerusalem have been refuted</td>\n      <td>Jerusalem</td>\n      <td>Jerusalem</td>\n      <td>IL</td>\n      <td>31.76904</td>\n      <td>35.21633</td>\n      <td>801000.0</td>\n    </tr>\n    <tr>\n      <th>643</th>\n      <td>More Zika patients reported in Indang</td>\n      <td>Indang</td>\n      <td>Indang</td>\n      <td>PH</td>\n      <td>14.19528</td>\n      <td>120.87694</td>\n      <td>41159.0</td>\n    </tr>\n    <tr>\n      <th>644</th>\n      <td>Suva authorities confirmed the spread of Rotavirus</td>\n      <td>Suva</td>\n      <td>Suva</td>\n      <td>FJ</td>\n      <td>-18.14161</td>\n      <td>178.44149</td>\n      <td>77366.0</td>\n    </tr>\n    <tr>\n      <th>645</th>\n      <td>More Zika patients reported in Bella Vista</td>\n      <td>Bella Vista</td>\n      <td>Bella Vista</td>\n      <td>DO</td>\n      <td>18.45539</td>\n      <td>-69.94540</td>\n      <td>175683.0</td>\n    </tr>\n    <tr>\n      <th>646</th>\n      <td>Zika Outbreak in Wichita Falls</td>\n      <td>Wichita Falls</td>\n      <td>Wichita Falls</td>\n      <td>US</td>\n      <td>33.91371</td>\n      <td>-98.49339</td>\n      <td>104710.0</td>\n    </tr>\n  </tbody>\n</table>\n</div>",
            "text/plain": "                                                         headline  \\\n642  Rumors about Rabies spreading in Jerusalem have been refuted   \n643                         More Zika patients reported in Indang   \n644            Suva authorities confirmed the spread of Rotavirus   \n645                    More Zika patients reported in Bella Vista   \n646                                Zika Outbreak in Wichita Falls   \n\n              city  accented_city countrycode  latitude  longitude       pop  \n642      Jerusalem      Jerusalem          IL  31.76904   35.21633  801000.0  \n643         Indang         Indang          PH  14.19528  120.87694   41159.0  \n644           Suva           Suva          FJ -18.14161  178.44149   77366.0  \n645    Bella Vista    Bella Vista          DO  18.45539  -69.94540  175683.0  \n646  Wichita Falls  Wichita Falls          US  33.91371  -98.49339  104710.0  "
          },
          "metadata": {}
        }
      ]
    },
    {
      "metadata": {
        "trusted": true
      },
      "cell_type": "code",
      "source": "data[['headline', 'city', 'latitude', 'longitude', 'countrycode']].head(10)",
      "execution_count": 44,
      "outputs": [
        {
          "output_type": "execute_result",
          "execution_count": 44,
          "data": {
            "text/html": "<div>\n<style scoped>\n    .dataframe tbody tr th:only-of-type {\n        vertical-align: middle;\n    }\n\n    .dataframe tbody tr th {\n        vertical-align: top;\n    }\n\n    .dataframe thead th {\n        text-align: right;\n    }\n</style>\n<table border=\"1\" class=\"dataframe\">\n  <thead>\n    <tr style=\"text-align: right;\">\n      <th></th>\n      <th>headline</th>\n      <th>city</th>\n      <th>latitude</th>\n      <th>longitude</th>\n      <th>countrycode</th>\n    </tr>\n  </thead>\n  <tbody>\n    <tr>\n      <th>0</th>\n      <td>Zika Outbreak Hits Miami</td>\n      <td>Miami</td>\n      <td>25.77427</td>\n      <td>-80.19366</td>\n      <td>US</td>\n    </tr>\n    <tr>\n      <th>1</th>\n      <td>Could Zika Reach New York City?</td>\n      <td>New York City</td>\n      <td>40.71427</td>\n      <td>-74.00597</td>\n      <td>US</td>\n    </tr>\n    <tr>\n      <th>2</th>\n      <td>First Case of Zika in Miami Beach</td>\n      <td>Miami Beach</td>\n      <td>25.79065</td>\n      <td>-80.13005</td>\n      <td>US</td>\n    </tr>\n    <tr>\n      <th>3</th>\n      <td>Mystery Virus Spreads in Recife, Brazil</td>\n      <td>Recife</td>\n      <td>-8.05389</td>\n      <td>-34.88111</td>\n      <td>BR</td>\n    </tr>\n    <tr>\n      <th>4</th>\n      <td>Dallas man comes down with case of Zika</td>\n      <td>Dallas</td>\n      <td>32.78306</td>\n      <td>-96.80667</td>\n      <td>US</td>\n    </tr>\n    <tr>\n      <th>5</th>\n      <td>Trinidad confirms first Zika case</td>\n      <td>Trinidad</td>\n      <td>-14.83333</td>\n      <td>-64.90000</td>\n      <td>BO</td>\n    </tr>\n    <tr>\n      <th>6</th>\n      <td>Zika Concerns are Spreading in Houston</td>\n      <td>Houston</td>\n      <td>29.76328</td>\n      <td>-95.36327</td>\n      <td>US</td>\n    </tr>\n    <tr>\n      <th>7</th>\n      <td>Geneve Scientists Battle to Find Cure</td>\n      <td>Geneve</td>\n      <td>46.20222</td>\n      <td>6.14569</td>\n      <td>CH</td>\n    </tr>\n    <tr>\n      <th>8</th>\n      <td>The CDC in Atlanta is Growing Worried</td>\n      <td>Atlanta</td>\n      <td>33.74900</td>\n      <td>-84.38798</td>\n      <td>US</td>\n    </tr>\n    <tr>\n      <th>9</th>\n      <td>Zika Infested Monkeys in Sao Paulo</td>\n      <td>Sao Paulo</td>\n      <td>-23.54750</td>\n      <td>-46.63611</td>\n      <td>BR</td>\n    </tr>\n  </tbody>\n</table>\n</div>",
            "text/plain": "                                  headline           city  latitude  \\\n0                 Zika Outbreak Hits Miami          Miami  25.77427   \n1          Could Zika Reach New York City?  New York City  40.71427   \n2        First Case of Zika in Miami Beach    Miami Beach  25.79065   \n3  Mystery Virus Spreads in Recife, Brazil         Recife  -8.05389   \n4  Dallas man comes down with case of Zika         Dallas  32.78306   \n5        Trinidad confirms first Zika case       Trinidad -14.83333   \n6   Zika Concerns are Spreading in Houston        Houston  29.76328   \n7    Geneve Scientists Battle to Find Cure         Geneve  46.20222   \n8    The CDC in Atlanta is Growing Worried        Atlanta  33.74900   \n9       Zika Infested Monkeys in Sao Paulo      Sao Paulo -23.54750   \n\n   longitude countrycode  \n0  -80.19366          US  \n1  -74.00597          US  \n2  -80.13005          US  \n3  -34.88111          BR  \n4  -96.80667          US  \n5  -64.90000          BO  \n6  -95.36327          US  \n7    6.14569          CH  \n8  -84.38798          US  \n9  -46.63611          BR  "
          },
          "metadata": {}
        }
      ]
    },
    {
      "metadata": {
        "trusted": true
      },
      "cell_type": "code",
      "source": "data.to_csv('processed_headlines_locations.csv')",
      "execution_count": 45,
      "outputs": []
    },
    {
      "metadata": {
        "trusted": true
      },
      "cell_type": "code",
      "source": "",
      "execution_count": null,
      "outputs": []
    }
  ],
  "metadata": {
    "kernelspec": {
      "name": "python36",
      "display_name": "Python 3.6",
      "language": "python"
    },
    "language_info": {
      "mimetype": "text/x-python",
      "nbconvert_exporter": "python",
      "name": "python",
      "pygments_lexer": "ipython3",
      "version": "3.6.6",
      "file_extension": ".py",
      "codemirror_mode": {
        "version": 3,
        "name": "ipython"
      }
    }
  },
  "nbformat": 4,
  "nbformat_minor": 1
}